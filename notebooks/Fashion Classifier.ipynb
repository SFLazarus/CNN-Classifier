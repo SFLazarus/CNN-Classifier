{
 "cells": [
  {
   "cell_type": "markdown",
   "metadata": {},
   "source": [
    "# Says One Neuron To Another\n",
    "## Neural network architectures\n",
    "1. Set up a new git repository in your GitHub account\n",
    "2. Pick two datasets from\n",
    "https://en.wikipedia.org/wiki/List_of_datasets_for_machine-learning_research\n",
    "3. Choose a programming language (Python, C/C++, Java)\n",
    "4. Formulate ideas on how neural networks can be used to accomplish the task for the specific dataset\n",
    "5. Build a neural network to model the prediction process programmatically\n",
    "6. Document your process and results\n",
    "7. Commit your source code, documentation and other supporting files to the git repository in GitHub\n",
    "\n",
    "# Dataset:\n",
    "\n",
    "`tf.keras.datasets.fashion_mnist.load_data()`\n",
    "\n",
    "- This is a dataset of 60,000 28x28 grayscale images of 10 fashion categories, along with a test set of 10,000 images. This dataset can be used as a drop-in replacement for MNIST. The class labels are:\n",
    "---\n",
    "- Label\tDescription\n",
    "\n",
    "- 0\tT-shirt/top\n",
    "- 1\tTrouser\n",
    "- 2\tPullover\n",
    "- 3\tDress\n",
    "- 4\tCoat\n",
    "- 5\tSandal\n",
    "- 6\tShirt\n",
    "- 7\tSneaker\n",
    "- 8\tBag\n",
    "- 9\tAnkle boot\n",
    "---\n",
    "\n",
    "- Fashion-MNIST is a dataset of Zalando's article images—consisting of a training set of 60,000 examples and a test set of 10,000 examples. Each example is a 28x28 grayscale image, associated with a label from 10 classes. Zalando intends Fashion-MNIST to serve as a direct drop-in replacement for the original MNIST dataset for benchmarking machine learning algorithms. It shares the same image size and structure of training and testing splits.\n",
    "\n",
    "- License: The copyright for Fashion-MNIST is held by Zalando SE. Fashion-MNIST is licensed under the MIT license.\n",
    "\n",
    "- Each image is 28 pixels in height and 28 pixels in width, for a total of 784 pixels in total. Each pixel has a single pixel-value associated with it, indicating the lightness or darkness of that pixel, with higher numbers meaning darker. This pixel-value is an integer between 0 and 255, inclusive.\n",
    "\n",
    "# Step-1\n",
    "## Preparing Environment"
   ]
  },
  {
   "cell_type": "code",
   "execution_count": 19,
   "metadata": {},
   "outputs": [],
   "source": [
    "import numpy as np\n",
    "import matplotlib.pyplot as plt\n",
    "from keras.datasets import fashion_mnist"
   ]
  },
  {
   "cell_type": "markdown",
   "metadata": {},
   "source": [
    "## Importing data"
   ]
  },
  {
   "cell_type": "code",
   "execution_count": 20,
   "metadata": {},
   "outputs": [
    {
     "name": "stdout",
     "output_type": "stream",
     "text": [
      "(60000, 28, 28)\n",
      "(10000, 28, 28)\n"
     ]
    }
   ],
   "source": [
    "(x_train,y_train),(x_test,y_test) = fashion_mnist.load_data()\n",
    "\n",
    "\n",
    "labelMap={0:'T-shirt/top',1:'Trouser',\n",
    "          2:'Pullover',3:'Dress',4:'Coat',\n",
    "          5:'Sandal',6:'Shirt',7:'Sneaker',\n",
    "          8:'Bag',9:'Ankle boot'}\n",
    "\n",
    "print(x_train.shape)\n",
    "print(x_test.shape)"
   ]
  },
  {
   "cell_type": "markdown",
   "metadata": {},
   "source": [
    "## Normalizing data"
   ]
  },
  {
   "cell_type": "code",
   "execution_count": 21,
   "metadata": {},
   "outputs": [],
   "source": [
    "x_train = x_train.reshape(60000,784)/255\n",
    "x_test = x_test.reshape(10000,784)/255"
   ]
  },
  {
   "cell_type": "markdown",
   "metadata": {},
   "source": [
    "# Step 2: Initializing Parameters\n",
    "## Weights and Bias\n",
    "\n",
    "### Structure of Neural Network\n",
    "\n",
    "- Input Layer has 784 neurons(28 x 28)\n",
    "- Hidden Layer has 15 neurons\n",
    "- Output Layer has 10 neurons(10 classes)\n",
    "\n",
    "- `bias0` and `bias1` are used for forward propagation\n",
    "- `re_bias0` and `re_bias1` are used for backward propagation\n",
    "\n",
    "\n",
    "- `weight0` and `weight1` are used for forward propagation\n",
    "- `re_weight0` and `re_weight1` are used for backward propagation\n",
    "\n"
   ]
  },
  {
   "cell_type": "code",
   "execution_count": 22,
   "metadata": {},
   "outputs": [],
   "source": [
    "bias0 = [0]*15\n",
    "bias1 = [0]*10\n",
    "re_bias0 = [0]*15\n",
    "re_bias1 = [0]*10\n",
    "weight0 = [[0 for i in range(784)]for i in range(15)]\n",
    "weight1 = [[0 for i in range(15)]for i in range(10)]\n",
    "re_weight0 = [[0 for i in range(784)]for i in range(15)]\n",
    "re_weight1 = [[0 for i in range(15)]for i in range(10)]\n",
    "\n",
    "\n",
    "for i in range(15):\n",
    "    bias0[i] = np.random.rand()*0.1\n",
    "for i in range(10):\n",
    "    bias1[i] = np.random.rand()*0.1\n",
    "for i in range(15):\n",
    "    for j in range(784):\n",
    "        weight0[i][j] = np.random.randn()*0.1\n",
    "for i in range(10):\n",
    "    for j in range(15):\n",
    "        weight1[i][j] = np.random.randn()*0.1"
   ]
  },
  {
   "cell_type": "markdown",
   "metadata": {},
   "source": [
    "## Input and Output layers\n",
    "\n",
    "- `Input0` are the values that are given to hidden layer along with weight and bias\n",
    "- `Output0` are the output of hidden layer from our activation function sigmoid.\n",
    "\n",
    "- `Input1` are the values given to output layer\n",
    "- `Output1` is the prediction using softmax function.\n"
   ]
  },
  {
   "cell_type": "code",
   "execution_count": 23,
   "metadata": {},
   "outputs": [],
   "source": [
    "Input0 = [0]*15\n",
    "Input1 = [0]*10\n",
    "Output0 = [0]*15\n",
    "Output1 = [0]*10\n",
    "\n",
    "Input0_test = [0]*15\n",
    "Input1_test = [0]*10\n",
    "Output0_test = [0]*15\n",
    "Output1_test = [0]*10"
   ]
  },
  {
   "attachments": {
    "image.png": {
     "image/png": "[encoded data removed]"
    }
   },
   "cell_type": "markdown",
   "metadata": {},
   "source": [
    "# Step 3: Defining all Methods\n",
    "## Sigmoid function\n",
    "![image.png](attachment:image.png)"
   ]
  },
  {
   "cell_type": "code",
   "execution_count": 24,
   "metadata": {},
   "outputs": [],
   "source": [
    "def sigmoid(x):\n",
    "    return 1/(1+np.exp(-x))"
   ]
  },
  {
   "attachments": {
    "image.png": {
     "image/png": "[encoded data removed]"
    }
   },
   "cell_type": "markdown",
   "metadata": {},
   "source": [
    "## Derivative of Sigmoid function\n",
    "- The derivative of the sigmoid function  sigm  at any  x∈R  is implemented as  dsigm(x)dx:=sigm(x)(1−sigm(x))\n",
    "![image.png](attachment:image.png)"
   ]
  },
  {
   "cell_type": "code",
   "execution_count": 25,
   "metadata": {},
   "outputs": [],
   "source": [
    "def dsigm(x):\n",
    "    return  sigmoid(x)*(1-sigmoid(x))   "
   ]
  },
  {
   "attachments": {
    "image.png": {
     "image/png": "[encoded data removed]"
    }
   },
   "cell_type": "markdown",
   "metadata": {},
   "source": [
    "## Softmax function\n",
    "\n",
    "![image.png](attachment:image.png)"
   ]
  },
  {
   "cell_type": "code",
   "execution_count": 26,
   "metadata": {},
   "outputs": [],
   "source": [
    "def softmax(x_array):\n",
    "    a = np.max(x_array)\n",
    "    exp_x = np.exp(x_array-a)\n",
    "    sum_exp_x = np.sum(exp_x)\n",
    "    y_array = exp_x/sum_exp_x\n",
    "    return y_array"
   ]
  },
  {
   "cell_type": "markdown",
   "metadata": {},
   "source": [
    "## Delta Function, Sum of Squares Error and Back Propagation Function"
   ]
  },
  {
   "cell_type": "code",
   "execution_count": 27,
   "metadata": {},
   "outputs": [],
   "source": [
    "def delta(num,t_n,Op1,Ip1,we1):\n",
    "    sum_1 = 0\n",
    "    for i in range(10):\n",
    "        sum_1 += (Op1[i]-t_n[i])*we1[i][num]*dsigm(Ip1[i])\n",
    "    return sum_1\n",
    "\n",
    "\n",
    "def sum_of_squares_error(y,t):\n",
    "    return 0.5*np.sum((y-t)**2)\n",
    "\n",
    "\n",
    "def back_propagation(Out0,Out1,In0,In1,t_num,x_t,l_rate):\n",
    "    \n",
    "    global weight0\n",
    "    global weight1\n",
    "    global bias0\n",
    "    global bias1\n",
    "    \n",
    "    for i in range(10):\n",
    "        for j in range(15):\n",
    "            re_weight1[i][j] = (Out1[i]-t_num[i])*dsigm(In1[i])\n",
    "            weight1[i][j] -= l_rate*re_weight1[i][j]*Out0[j]\n",
    "    \n",
    "    for i in range(15):\n",
    "        for j in range(784):\n",
    "            re_weight0[i][j] = delta(i,t_num,Out1,In1,weight1)*dsigm(In0[i])\n",
    "            weight0[i][j] -= l_rate*re_weight0[i][j]*x_t[j]\n",
    "    \n",
    "    for i in range(10):\n",
    "        re_bias1[i] = (Out1[i]-t_num[i])*dsigm(In1[i])\n",
    "        bias1[i] -= l_rate*re_bias1[i]\n",
    "        \n",
    "    for i in range(15):\n",
    "        re_bias0[i] = delta(i,t_num,Out1,In1,weight1)*dsigm(In0[i])\n",
    "        bias0[i] -= l_rate*re_bias0[i]"
   ]
  },
  {
   "cell_type": "markdown",
   "metadata": {},
   "source": [
    "## Accuracy Function"
   ]
  },
  {
   "cell_type": "code",
   "execution_count": 28,
   "metadata": {},
   "outputs": [],
   "source": [
    "def accuracy(y_list,t_list,switch):\n",
    "    max_y = np.argmax(y_list,axis=1)\n",
    "    max_t = np.argmax(t_list,axis=1)\n",
    "    if switch == \"train\":\n",
    "        return np.sum(max_y == max_t)/100\n",
    "    elif switch == \"test\":\n",
    "        return np.sum(max_y == max_t)/ 10000\n"
   ]
  },
  {
   "cell_type": "markdown",
   "metadata": {},
   "source": [
    "## Function to visualize"
   ]
  },
  {
   "cell_type": "code",
   "execution_count": 29,
   "metadata": {},
   "outputs": [],
   "source": [
    "def plot_figure(acc, loss, num, name):\n",
    "    x = list(range(num))\n",
    "    y = acc\n",
    "    z = loss\n",
    "    plt.plot(x, y, label = \"accuracy\")\n",
    "    plt.plot(x, z, label = \"loss\")\n",
    "    plt.legend(loc = \"lower right\")\n",
    "    plt.savefig(\"../reports/\"+name+\"_acc_loss.jpg\")"
   ]
  },
  {
   "cell_type": "markdown",
   "metadata": {},
   "source": [
    "# Step 4: Hyperparameters\n",
    "\n",
    "- After changing the values of these hypermaters, I found that these had a decent performance."
   ]
  },
  {
   "cell_type": "code",
   "execution_count": 30,
   "metadata": {},
   "outputs": [],
   "source": [
    "learning_rate = 0.1\n",
    "epochs = 12\n",
    "input_words = 3    "
   ]
  },
  {
   "cell_type": "markdown",
   "metadata": {},
   "source": [
    "# Step 5: Training the model"
   ]
  },
  {
   "cell_type": "code",
   "execution_count": 31,
   "metadata": {},
   "outputs": [
    {
     "name": "stdout",
     "output_type": "stream",
     "text": [
      "Epoch :0\n",
      "Iteration 0:  train_accuracy = 0.15\t train_loss = 0.5090510131253586\n",
      "Iteration 1:  train_accuracy = 0.21\t train_loss = 0.4741746495957587\n",
      "Iteration 2:  train_accuracy = 0.22\t train_loss = 0.4629137146506828\n",
      "Epoch :1\n",
      "Iteration 3:  train_accuracy = 0.29\t train_loss = 0.4774445609940894\n",
      "Iteration 4:  train_accuracy = 0.37\t train_loss = 0.45693985771392265\n",
      "Iteration 5:  train_accuracy = 0.37\t train_loss = 0.404694636761037\n",
      "Epoch :2\n",
      "Iteration 6:  train_accuracy = 0.38\t train_loss = 0.4720412188379207\n",
      "Iteration 7:  train_accuracy = 0.48\t train_loss = 0.4238902684045259\n",
      "Iteration 8:  train_accuracy = 0.47\t train_loss = 0.3605504342159094\n",
      "Epoch :3\n",
      "Iteration 9:  train_accuracy = 0.49\t train_loss = 0.4576145826996712\n",
      "Iteration 10:  train_accuracy = 0.56\t train_loss = 0.4020583725366636\n",
      "Iteration 11:  train_accuracy = 0.54\t train_loss = 0.31676350481269455\n",
      "Epoch :4\n",
      "Iteration 12:  train_accuracy = 0.58\t train_loss = 0.428541330871881\n",
      "Iteration 13:  train_accuracy = 0.67\t train_loss = 0.38737722251082496\n",
      "Iteration 14:  train_accuracy = 0.6\t train_loss = 0.266743465046519\n",
      "Epoch :5\n",
      "Iteration 15:  train_accuracy = 0.63\t train_loss = 0.38255895412134333\n",
      "Iteration 16:  train_accuracy = 0.7\t train_loss = 0.3748443919262801\n",
      "Iteration 17:  train_accuracy = 0.63\t train_loss = 0.2185250683057015\n",
      "Epoch :6\n",
      "Iteration 18:  train_accuracy = 0.67\t train_loss = 0.32431290229215703\n",
      "Iteration 19:  train_accuracy = 0.72\t train_loss = 0.36327978394813043\n",
      "Iteration 20:  train_accuracy = 0.66\t train_loss = 0.17838688308881295\n",
      "Epoch :7\n",
      "Iteration 21:  train_accuracy = 0.69\t train_loss = 0.2628341670988957\n",
      "Iteration 22:  train_accuracy = 0.74\t train_loss = 0.35363169256235466\n",
      "Iteration 23:  train_accuracy = 0.68\t train_loss = 0.14741517976435128\n",
      "Epoch :8\n",
      "Iteration 24:  train_accuracy = 0.71\t train_loss = 0.20602531396856927\n",
      "Iteration 25:  train_accuracy = 0.76\t train_loss = 0.3458854120583118\n",
      "Iteration 26:  train_accuracy = 0.68\t train_loss = 0.12403354951781904\n",
      "Epoch :9\n",
      "Iteration 27:  train_accuracy = 0.72\t train_loss = 0.15861131285056654\n",
      "Iteration 28:  train_accuracy = 0.77\t train_loss = 0.3389750897733716\n",
      "Iteration 29:  train_accuracy = 0.69\t train_loss = 0.10613190750184741\n",
      "Epoch :10\n",
      "Iteration 30:  train_accuracy = 0.74\t train_loss = 0.12188613267921834\n",
      "Iteration 31:  train_accuracy = 0.77\t train_loss = 0.3321710198062794\n",
      "Iteration 32:  train_accuracy = 0.71\t train_loss = 0.0922201150164399\n",
      "Epoch :11\n",
      "Iteration 33:  train_accuracy = 0.8\t train_loss = 0.09474844965612288\n",
      "Iteration 34:  train_accuracy = 0.78\t train_loss = 0.32549843241097237\n",
      "Iteration 35:  train_accuracy = 0.75\t train_loss = 0.08152072865347676\n"
     ]
    },
    {
     "data": {
      "image/png": "[encoded data removed]",
      "text/plain": [
       "<Figure size 432x288 with 1 Axes>"
      ]
     },
     "metadata": {
      "needs_background": "light"
     },
     "output_type": "display_data"
    }
   ],
   "source": [
    "all_train_accuracy = []\n",
    "all_train_loss = []\n",
    "\n",
    "for l in range(epochs):\n",
    "    print(\"Epoch :\"+str(l))\n",
    "    for k in range(input_words):\n",
    "        train_prediction = []\n",
    "        train_answer = []\n",
    "        print(\"Iteration \"+str(l*input_words+k)+\": \", end=\"\")\n",
    "        for j in range(100):  \n",
    "            for i in range(15):\n",
    "                Input0[i]  = np.dot(x_train[k*100+j],weight0[i])+bias0[i]\n",
    "                Output0[i] = sigmoid(Input0[i])\n",
    "            for i in range(10):\n",
    "                Input1[i] = np.dot(Output0,weight1[i])+bias1[i]\n",
    "            \n",
    "            Output1 = softmax(Input1)        \n",
    "            train_num = [0]*10\n",
    "            train_num[y_train[k*100+j]] = train_num[y_train[k*100+j]]+1\n",
    "        \n",
    "            train_prediction.append(Output1)\n",
    "            train_answer.append(train_num)\n",
    "\n",
    "            back_propagation(Output0,Output1,Input0,Input1,train_num,x_train[k*100+j],learning_rate)\n",
    "            \n",
    "        train_acc = accuracy(train_prediction,train_answer,\"train\")\n",
    "        train_loss = sum_of_squares_error(Output1,train_num)\n",
    "            \n",
    "        print(\" train_accuracy = \"+str(train_acc), end=\"\\t\")\n",
    "        print(\" train_loss = \"+str(train_loss))\n",
    "            \n",
    "        all_train_accuracy.append(train_acc)\n",
    "        all_train_loss.append(train_loss)\n",
    "    \n",
    "    \n",
    "        \n",
    "number = epochs*input_words\n",
    "plot_figure(all_train_accuracy, all_train_loss,number,\"train\")"
   ]
  },
  {
   "cell_type": "markdown",
   "metadata": {},
   "source": [
    "# Step 6: Testing the model"
   ]
  },
  {
   "cell_type": "code",
   "execution_count": 32,
   "metadata": {},
   "outputs": [
    {
     "name": "stdout",
     "output_type": "stream",
     "text": [
      "test_accuracy = 0.7077\ttest_loss = 0.31616444314040526\n"
     ]
    }
   ],
   "source": [
    "test_prediction = []\n",
    "test_answer = []\n",
    "\n",
    "for j in range(10000):\n",
    "    for i in range(15):\n",
    "        Input0_test[i] = np.dot(x_test[j],weight0[i])+bias0[i]\n",
    "        Output0_test[i] = sigmoid(Input0_test[i])\n",
    "    for i in range(10):\n",
    "        Input1_test[i] = np.dot(Output0_test,weight1[i])+bias1[i]\n",
    "    Output1_test = softmax(Input1_test)\n",
    "    test_num = [0]*10\n",
    "    test_num[y_test[j]] = test_num[y_test[j]]+1\n",
    "        \n",
    "    test_prediction.append(Output1_test)\n",
    "    test_answer.append(test_num)\n",
    "    \n",
    "test_acc = accuracy(test_prediction,test_answer,\"test\")\n",
    "test_loss = sum_of_squares_error(Output1_test,test_num)\n",
    "    \n",
    "print(\"test_accuracy = \"+str(test_acc), end=\"\\t\")\n",
    "print(\"test_loss = \"+str(test_loss))\n"
   ]
  },
  {
   "cell_type": "markdown",
   "metadata": {},
   "source": [
    "# Step 7: Visualizing the performance of our model"
   ]
  },
  {
   "cell_type": "code",
   "execution_count": 33,
   "metadata": {},
   "outputs": [
    {
     "data": {
      "image/png": "[encoded data removed]",
      "text/plain": [
       "<Figure size 1080x504 with 12 Axes>"
      ]
     },
     "metadata": {
      "needs_background": "light"
     },
     "output_type": "display_data"
    }
   ],
   "source": [
    "X_train__ = x_test.reshape(x_test.shape[0], 28, 28)\n",
    "\n",
    "fig, axis = plt.subplots(4, 3, figsize=(15, 7))\n",
    "for i, ax in enumerate(axis.flat):\n",
    "    randomindex=int(np.random.rand()*1000)\n",
    "    ax.imshow(X_train__[randomindex], cmap='binary')\n",
    "    digit = y_test[randomindex]\n",
    "    prediction=test_prediction[randomindex].argmax()\n",
    "    ax.axis(False)\n",
    "    ax.set(title = f\"[Label: {labelMap[digit]}| Prediction: {labelMap[prediction]}]\");"
   ]
  },
  {
   "cell_type": "markdown",
   "metadata": {},
   "source": [
    "# Results and Future Developments:\n",
    "\n",
    "- For training accuracy, we reached a Global Maxima of 80%.\n",
    "- For testing, we had an accuracy of 70.77%. \n",
    "\n",
    "- Our model trained pretty well but we could not obtain similar train and test accuracies this might be because of overfitting or not enough data to train our model or a shallow network with only one hidden layer.\n",
    "- In future we can try to implement a deeper network with more hidden layers and also instead of initializing weights and biases with random values we can use some standard weights which are trained on more powerful machines."
   ]
  },
  {
   "cell_type": "code",
   "execution_count": null,
   "metadata": {},
   "outputs": [],
   "source": []
  }
 ],
 "metadata": {
  "kernelspec": {
   "display_name": "Python 3",
   "language": "python",
   "name": "python3"
  },
  "language_info": {
   "codemirror_mode": {
    "name": "ipython",
    "version": 3
   },
   "file_extension": ".py",
   "mimetype": "text/x-python",
   "name": "python",
   "nbconvert_exporter": "python",
   "pygments_lexer": "ipython3",
   "version": "3.7.6"
  }
 },
 "nbformat": 4,
 "nbformat_minor": 4
}
